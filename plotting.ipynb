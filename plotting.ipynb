version https://git-lfs.github.com/spec/v1
oid sha256:28f187932652425ca228e1665085ef8cd99c68b0ece7efac34374983e4afc2f4
size 9976
