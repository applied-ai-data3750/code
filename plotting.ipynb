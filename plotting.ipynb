version https://git-lfs.github.com/spec/v1
oid sha256:b4de7adf0cf7e4131041231f564e062cf06f39013cf83dcc576aa4cc31ac4f2f
size 11971
