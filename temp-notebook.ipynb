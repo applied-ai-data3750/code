{
 "cells": [
  {
   "cell_type": "code",
   "execution_count": 1,
   "metadata": {},
   "outputs": [
    {
     "name": "stderr",
     "output_type": "stream",
     "text": [
      "c:\\Users\\Ulrik\\anaconda3\\envs\\intro-ai\\lib\\site-packages\\tqdm\\auto.py:22: TqdmWarning: IProgress not found. Please update jupyter and ipywidgets. See https://ipywidgets.readthedocs.io/en/stable/user_install.html\n",
      "  from .autonotebook import tqdm as notebook_tqdm\n",
      "c:\\Users\\Ulrik\\anaconda3\\envs\\intro-ai\\lib\\site-packages\\scipy\\__init__.py:146: UserWarning: A NumPy version >=1.16.5 and <1.23.0 is required for this version of SciPy (detected version 1.23.1\n",
      "  warnings.warn(f\"A NumPy version >={np_minversion} and <{np_maxversion}\"\n",
      "c:\\Users\\Ulrik\\anaconda3\\envs\\intro-ai\\lib\\site-packages\\huggingface_hub\\snapshot_download.py:6: FutureWarning: snapshot_download.py has been made private and will no longer be available from version 0.11. Please use `from huggingface_hub import snapshot_download` to import the only public function in this module. Other members of the file may be changed without a deprecation notice.\n",
      "  warnings.warn(\n"
     ]
    },
    {
     "name": "stdout",
     "output_type": "stream",
     "text": [
      "\n",
      "GPUs detected:          1\n",
      "Using GPU:              True\n",
      "Device:                 cuda\n",
      "Got model from pickle:  True\n",
      "\n",
      "imports done\n"
     ]
    }
   ],
   "source": [
    "#from scripts import *\n",
    "\n",
    "from scripts.default_imports import *\n",
    "\n",
    "# user functions\n",
    "from scripts.cleaning import *\n",
    "from scripts.plotting import *\n",
    "from scripts.topic_finding import *\n",
    "\n",
    "print(\"imports done\")"
   ]
  },
  {
   "cell_type": "code",
   "execution_count": 2,
   "metadata": {},
   "outputs": [
    {
     "name": "stdout",
     "output_type": "stream",
     "text": [
      "(32469, 7)\n"
     ]
    },
    {
     "data": {
      "text/html": [
       "<div>\n",
       "<style scoped>\n",
       "    .dataframe tbody tr th:only-of-type {\n",
       "        vertical-align: middle;\n",
       "    }\n",
       "\n",
       "    .dataframe tbody tr th {\n",
       "        vertical-align: top;\n",
       "    }\n",
       "\n",
       "    .dataframe thead th {\n",
       "        text-align: right;\n",
       "    }\n",
       "</style>\n",
       "<table border=\"1\" class=\"dataframe\">\n",
       "  <thead>\n",
       "    <tr style=\"text-align: right;\">\n",
       "      <th></th>\n",
       "      <th>commit</th>\n",
       "      <th>author_name</th>\n",
       "      <th>time_sec</th>\n",
       "      <th>subject</th>\n",
       "      <th>files_changed</th>\n",
       "      <th>lines_inserted</th>\n",
       "      <th>lines_deleted</th>\n",
       "    </tr>\n",
       "  </thead>\n",
       "  <tbody>\n",
       "    <tr>\n",
       "      <th>0</th>\n",
       "      <td>8a428cdd35</td>\n",
       "      <td>ekelsen</td>\n",
       "      <td>1524782988</td>\n",
       "      <td>Merge-pull-request-18846-from-yongtang-04252018-FloorDiv-int8</td>\n",
       "      <td>NaN</td>\n",
       "      <td>NaN</td>\n",
       "      <td>NaN</td>\n",
       "    </tr>\n",
       "    <tr>\n",
       "      <th>1</th>\n",
       "      <td>ce733dc348</td>\n",
       "      <td>ekelsen</td>\n",
       "      <td>1524781964</td>\n",
       "      <td>Merge-pull-request-18881-from-ManHyuk-fix_typo</td>\n",
       "      <td>NaN</td>\n",
       "      <td>NaN</td>\n",
       "      <td>NaN</td>\n",
       "    </tr>\n",
       "    <tr>\n",
       "      <th>2</th>\n",
       "      <td>5cd6a8d1ed</td>\n",
       "      <td>ekelsen</td>\n",
       "      <td>1524781835</td>\n",
       "      <td>Merge-pull-request-18907-from-yongtang-18363-mpi</td>\n",
       "      <td>NaN</td>\n",
       "      <td>NaN</td>\n",
       "      <td>NaN</td>\n",
       "    </tr>\n",
       "  </tbody>\n",
       "</table>\n",
       "</div>"
      ],
      "text/plain": [
       "       commit author_name    time_sec  \\\n",
       "0  8a428cdd35     ekelsen  1524782988   \n",
       "1  ce733dc348     ekelsen  1524781964   \n",
       "2  5cd6a8d1ed     ekelsen  1524781835   \n",
       "\n",
       "                                                                           subject  \\\n",
       "0  Merge-pull-request-18846-from-yongtang-04252018-FloorDiv-int8                     \n",
       "1  Merge-pull-request-18881-from-ManHyuk-fix_typo                                    \n",
       "2  Merge-pull-request-18907-from-yongtang-18363-mpi                                  \n",
       "\n",
       "   files_changed  lines_inserted  lines_deleted  \n",
       "0            NaN             NaN            NaN  \n",
       "1            NaN             NaN            NaN  \n",
       "2            NaN             NaN            NaN  "
      ]
     },
     "execution_count": 2,
     "metadata": {},
     "output_type": "execute_result"
    }
   ],
   "source": [
    "df = pd.read_csv(\"data/tensorflow.csv\", on_bad_lines='skip')\n",
    "\n",
    "print(df.shape)\n",
    "\n",
    "df.head(3)"
   ]
  },
  {
   "cell_type": "code",
   "execution_count": 3,
   "metadata": {},
   "outputs": [
    {
     "data": {
      "text/plain": [
       "commit               0\n",
       "author_name          0\n",
       "time_sec             0\n",
       "subject              0\n",
       "files_changed     3324\n",
       "lines_inserted    4294\n",
       "lines_deleted     7857\n",
       "dtype: int64"
      ]
     },
     "execution_count": 3,
     "metadata": {},
     "output_type": "execute_result"
    }
   ],
   "source": [
    "df.isna().sum()"
   ]
  },
  {
   "cell_type": "markdown",
   "metadata": {},
   "source": [
    "We are intending to use the `subject` field as a temporary substitue of `categoryRaw` which we will get from the schibsted data"
   ]
  },
  {
   "cell_type": "code",
   "execution_count": 4,
   "metadata": {},
   "outputs": [
    {
     "name": "stdout",
     "output_type": "stream",
     "text": [
      "(32469, 7)\n"
     ]
    },
    {
     "data": {
      "text/html": [
       "<div>\n",
       "<style scoped>\n",
       "    .dataframe tbody tr th:only-of-type {\n",
       "        vertical-align: middle;\n",
       "    }\n",
       "\n",
       "    .dataframe tbody tr th {\n",
       "        vertical-align: top;\n",
       "    }\n",
       "\n",
       "    .dataframe thead th {\n",
       "        text-align: right;\n",
       "    }\n",
       "</style>\n",
       "<table border=\"1\" class=\"dataframe\">\n",
       "  <thead>\n",
       "    <tr style=\"text-align: right;\">\n",
       "      <th></th>\n",
       "      <th>commit</th>\n",
       "      <th>author_name</th>\n",
       "      <th>time_sec</th>\n",
       "      <th>subject</th>\n",
       "      <th>files_changed</th>\n",
       "      <th>lines_inserted</th>\n",
       "      <th>lines_deleted</th>\n",
       "    </tr>\n",
       "  </thead>\n",
       "  <tbody>\n",
       "    <tr>\n",
       "      <th>0</th>\n",
       "      <td>8a428cdd35</td>\n",
       "      <td>ekelsen</td>\n",
       "      <td>1524782988</td>\n",
       "      <td>Merge-pull-request-18846-from-yongtang-04252018-FloorDiv-int8</td>\n",
       "      <td>NaN</td>\n",
       "      <td>NaN</td>\n",
       "      <td>NaN</td>\n",
       "    </tr>\n",
       "    <tr>\n",
       "      <th>1</th>\n",
       "      <td>ce733dc348</td>\n",
       "      <td>ekelsen</td>\n",
       "      <td>1524781964</td>\n",
       "      <td>Merge-pull-request-18881-from-ManHyuk-fix_typo</td>\n",
       "      <td>NaN</td>\n",
       "      <td>NaN</td>\n",
       "      <td>NaN</td>\n",
       "    </tr>\n",
       "    <tr>\n",
       "      <th>2</th>\n",
       "      <td>5cd6a8d1ed</td>\n",
       "      <td>ekelsen</td>\n",
       "      <td>1524781835</td>\n",
       "      <td>Merge-pull-request-18907-from-yongtang-18363-mpi</td>\n",
       "      <td>NaN</td>\n",
       "      <td>NaN</td>\n",
       "      <td>NaN</td>\n",
       "    </tr>\n",
       "  </tbody>\n",
       "</table>\n",
       "</div>"
      ],
      "text/plain": [
       "       commit author_name    time_sec  \\\n",
       "0  8a428cdd35     ekelsen  1524782988   \n",
       "1  ce733dc348     ekelsen  1524781964   \n",
       "2  5cd6a8d1ed     ekelsen  1524781835   \n",
       "\n",
       "                                                                           subject  \\\n",
       "0  Merge-pull-request-18846-from-yongtang-04252018-FloorDiv-int8                     \n",
       "1  Merge-pull-request-18881-from-ManHyuk-fix_typo                                    \n",
       "2  Merge-pull-request-18907-from-yongtang-18363-mpi                                  \n",
       "\n",
       "   files_changed  lines_inserted  lines_deleted  \n",
       "0            NaN             NaN            NaN  \n",
       "1            NaN             NaN            NaN  \n",
       "2            NaN             NaN            NaN  "
      ]
     },
     "execution_count": 4,
     "metadata": {},
     "output_type": "execute_result"
    }
   ],
   "source": [
    "# if your computer does not have GPU support, you can use a sample of the dataset instead to make it run in a reasonable time\n",
    "if device == \"cpu\": df = df.sample(frac=0.05)\n",
    "\n",
    "print(df.shape)\n",
    "\n",
    "df.head(3)"
   ]
  },
  {
   "cell_type": "code",
   "execution_count": 5,
   "metadata": {},
   "outputs": [
    {
     "data": {
      "text/html": [
       "<div>\n",
       "<style scoped>\n",
       "    .dataframe tbody tr th:only-of-type {\n",
       "        vertical-align: middle;\n",
       "    }\n",
       "\n",
       "    .dataframe tbody tr th {\n",
       "        vertical-align: top;\n",
       "    }\n",
       "\n",
       "    .dataframe thead th {\n",
       "        text-align: right;\n",
       "    }\n",
       "</style>\n",
       "<table border=\"1\" class=\"dataframe\">\n",
       "  <thead>\n",
       "    <tr style=\"text-align: right;\">\n",
       "      <th></th>\n",
       "      <th>commit</th>\n",
       "      <th>author_name</th>\n",
       "      <th>time_sec</th>\n",
       "      <th>subject</th>\n",
       "      <th>files_changed</th>\n",
       "      <th>lines_inserted</th>\n",
       "      <th>lines_deleted</th>\n",
       "      <th>subject_clean</th>\n",
       "    </tr>\n",
       "  </thead>\n",
       "  <tbody>\n",
       "    <tr>\n",
       "      <th>0</th>\n",
       "      <td>8a428cdd35</td>\n",
       "      <td>ekelsen</td>\n",
       "      <td>1524782988</td>\n",
       "      <td>Merge-pull-request-18846-from-yongtang-04252018-FloorDiv-int8</td>\n",
       "      <td>NaN</td>\n",
       "      <td>NaN</td>\n",
       "      <td>NaN</td>\n",
       "      <td>mergepullrequest18846fromyongtang04252018floordivint8</td>\n",
       "    </tr>\n",
       "    <tr>\n",
       "      <th>1</th>\n",
       "      <td>ce733dc348</td>\n",
       "      <td>ekelsen</td>\n",
       "      <td>1524781964</td>\n",
       "      <td>Merge-pull-request-18881-from-ManHyuk-fix_typo</td>\n",
       "      <td>NaN</td>\n",
       "      <td>NaN</td>\n",
       "      <td>NaN</td>\n",
       "      <td>mergepullrequest18881frommanhyukfix_typo</td>\n",
       "    </tr>\n",
       "    <tr>\n",
       "      <th>2</th>\n",
       "      <td>5cd6a8d1ed</td>\n",
       "      <td>ekelsen</td>\n",
       "      <td>1524781835</td>\n",
       "      <td>Merge-pull-request-18907-from-yongtang-18363-mpi</td>\n",
       "      <td>NaN</td>\n",
       "      <td>NaN</td>\n",
       "      <td>NaN</td>\n",
       "      <td>mergepullrequest18907fromyongtang18363mpi</td>\n",
       "    </tr>\n",
       "    <tr>\n",
       "      <th>3</th>\n",
       "      <td>d0b961306a</td>\n",
       "      <td>ekelsen</td>\n",
       "      <td>1524781628</td>\n",
       "      <td>Merge-pull-request-18896-from-KikaTech-fix_lite_topk</td>\n",
       "      <td>NaN</td>\n",
       "      <td>NaN</td>\n",
       "      <td>NaN</td>\n",
       "      <td>mergepullrequest18896fromkikatechfix_lite_topk</td>\n",
       "    </tr>\n",
       "    <tr>\n",
       "      <th>4</th>\n",
       "      <td>1bf9ec7f85</td>\n",
       "      <td>Yong Tang</td>\n",
       "      <td>1524775671</td>\n",
       "      <td>Fix-cmake-build-issues-with-GPU-on-Linux-18775</td>\n",
       "      <td>4.0</td>\n",
       "      <td>17.0</td>\n",
       "      <td>1.0</td>\n",
       "      <td>fixcmakebuildissueswithgpuonlinux18775</td>\n",
       "    </tr>\n",
       "  </tbody>\n",
       "</table>\n",
       "</div>"
      ],
      "text/plain": [
       "       commit author_name    time_sec  \\\n",
       "0  8a428cdd35     ekelsen  1524782988   \n",
       "1  ce733dc348     ekelsen  1524781964   \n",
       "2  5cd6a8d1ed     ekelsen  1524781835   \n",
       "3  d0b961306a     ekelsen  1524781628   \n",
       "4  1bf9ec7f85   Yong Tang  1524775671   \n",
       "\n",
       "                                                                           subject  \\\n",
       "0  Merge-pull-request-18846-from-yongtang-04252018-FloorDiv-int8                     \n",
       "1  Merge-pull-request-18881-from-ManHyuk-fix_typo                                    \n",
       "2  Merge-pull-request-18907-from-yongtang-18363-mpi                                  \n",
       "3  Merge-pull-request-18896-from-KikaTech-fix_lite_topk                              \n",
       "4  Fix-cmake-build-issues-with-GPU-on-Linux-18775                                    \n",
       "\n",
       "   files_changed  lines_inserted  lines_deleted  \\\n",
       "0            NaN             NaN            NaN   \n",
       "1            NaN             NaN            NaN   \n",
       "2            NaN             NaN            NaN   \n",
       "3            NaN             NaN            NaN   \n",
       "4            4.0            17.0            1.0   \n",
       "\n",
       "                                                               subject_clean  \n",
       "0    mergepullrequest18846fromyongtang04252018floordivint8                    \n",
       "1  mergepullrequest18881frommanhyukfix_typo                                   \n",
       "2   mergepullrequest18907fromyongtang18363mpi                                 \n",
       "3  mergepullrequest18896fromkikatechfix_lite_topk                             \n",
       "4    fixcmakebuildissueswithgpuonlinux18775                                   "
      ]
     },
     "execution_count": 5,
     "metadata": {},
     "output_type": "execute_result"
    }
   ],
   "source": [
    "df[\"subject_clean\"] = df[\"subject\"].apply(string_cleaner)\n",
    "\n",
    "df.head(5)"
   ]
  },
  {
   "cell_type": "code",
   "execution_count": 6,
   "metadata": {},
   "outputs": [],
   "source": [
    "embs = model.encode(df[\"subject_clean\"].to_numpy())"
   ]
  }
 ],
 "metadata": {
  "kernelspec": {
   "display_name": "Python 3.8.13 ('intro-ai')",
   "language": "python",
   "name": "python3"
  },
  "language_info": {
   "codemirror_mode": {
    "name": "ipython",
    "version": 3
   },
   "file_extension": ".py",
   "mimetype": "text/x-python",
   "name": "python",
   "nbconvert_exporter": "python",
   "pygments_lexer": "ipython3",
   "version": "3.8.13"
  },
  "orig_nbformat": 4,
  "vscode": {
   "interpreter": {
    "hash": "38d73e8124eea168d83bf600594a92a80232e9aaa35d01c8967c1003cd6e19a8"
   }
  }
 },
 "nbformat": 4,
 "nbformat_minor": 2
}
